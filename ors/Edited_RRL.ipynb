{
  "nbformat": 4,
  "nbformat_minor": 0,
  "metadata": {
    "colab": {
      "provenance": []
    },
    "kernelspec": {
      "name": "python3",
      "display_name": "Python 3"
    },
    "language_info": {
      "name": "python"
    }
  },
  "cells": [
    {
      "cell_type": "markdown",
      "source": [
        "#UNZIP THE EDITED RRL"
      ],
      "metadata": {
        "id": "dgmb6iRCBVbJ"
      }
    },
    {
      "cell_type": "code",
      "execution_count": null,
      "metadata": {
        "id": "6Lfx3lWMA2dD"
      },
      "outputs": [],
      "source": [
        "import zipfile\n",
        "import os\n",
        "\n",
        "def unzip_file(zip_path, extract_to=None):\n",
        "    if extract_to is None:\n",
        "        extract_to = os.path.dirname(zip_path)\n",
        "\n",
        "    try:\n",
        "        with zipfile.ZipFile(zip_path, 'r') as zip_ref:\n",
        "            zip_ref.extractall(extract_to)\n",
        "            print(f\"Files extracted to: {extract_to}\")\n",
        "    except zipfile.BadZipFile:\n",
        "        print(\"Error: The file is not a zip file or it is corrupted.\")\n",
        "    except Exception as e:\n",
        "        print(f\"An error occurred: {e}\")\n",
        "zip_path = '/content/rrl.zip'\n",
        "unzip_file(zip_path)"
      ]
    },
    {
      "cell_type": "markdown",
      "source": [
        "#PREPROCESS THE DATA FOR RRL"
      ],
      "metadata": {
        "id": "t2kBEtHlBYhl"
      }
    },
    {
      "cell_type": "code",
      "source": [
        "import numpy as np\n",
        "import pandas as pd\n",
        "\n",
        "# Load the data\n",
        "data_path = \"/content/data_refined_new.csv\"\n",
        "data = pd.read_csv(data_path)\n",
        "\n",
        "processed_data = data.copy()\n",
        "\n",
        "for column in processed_data.columns[:-1]:\n",
        "    processed_data[column] = processed_data[column].apply(lambda x: column if x == 1 else f\"inv_{column}\")\n",
        "\n",
        "processed_data['label_utilize'] = processed_data['label_utilize'].map({1: 'positive', 0: 'negative'})\n",
        "\n",
        "headerless_data = processed_data.to_numpy()\n",
        "\n",
        "correct_data_save_path = \"/content/rrl/dataset/DATA.data\"\n",
        "\n",
        "np.savetxt(correct_data_save_path, headerless_data, fmt='%s', delimiter=\",\")\n",
        "\n",
        "correct_data_save_path\n",
        "num_features = headerless_data.shape[1] - 1\n",
        "info_content = \"\\n\".join([f\"{i + 1} discrete\" for i in range(num_features)])\n",
        "info_content += \"\\nclass discrete\\nLABEL_POS -1\"\n",
        "\n",
        "info_file_path = \"/content/rrl/dataset/DATA.info\"\n",
        "\n",
        "with open(info_file_path, \"w\") as file:\n",
        "    file.write(info_content)\n",
        "\n",
        "info_file_path\n",
        "\n"
      ],
      "metadata": {
        "id": "eEDzWwiiBF32"
      },
      "execution_count": null,
      "outputs": []
    },
    {
      "cell_type": "code",
      "source": [
        "%cd /content/rrl"
      ],
      "metadata": {
        "id": "TRwlBEZoBO3R"
      },
      "execution_count": null,
      "outputs": []
    },
    {
      "cell_type": "markdown",
      "source": [
        "#RUN THE RRL MODEL"
      ],
      "metadata": {
        "id": "qbjFaFDLB0cO"
      }
    },
    {
      "cell_type": "code",
      "source": [
        "!python3 /content/rrl/experiment.py -d /content/rrl/dataset/DATA -bs 16 -s 1@64 -e100 -lrde 200 -lr 0.01 -ki 0 -i 0 -wd 0.0001 --nlaf --alpha 0.8 --beta 3 --gamma 3 --temp 0.001 --print_rule &"
      ],
      "metadata": {
        "id": "8sRJphH2BRmC"
      },
      "execution_count": null,
      "outputs": []
    }
  ]
}